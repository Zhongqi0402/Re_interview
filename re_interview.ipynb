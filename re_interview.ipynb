{
 "cells": [
  {
   "cell_type": "code",
   "execution_count": 15,
   "metadata": {},
   "outputs": [],
   "source": [
    "#import all libraries needed\n",
    "import pandas as pd\n",
    "import numpy as np"
   ]
  },
  {
   "cell_type": "code",
   "execution_count": 16,
   "metadata": {},
   "outputs": [
    {
     "data": {
      "text/html": [
       "<div>\n",
       "<style scoped>\n",
       "    .dataframe tbody tr th:only-of-type {\n",
       "        vertical-align: middle;\n",
       "    }\n",
       "\n",
       "    .dataframe tbody tr th {\n",
       "        vertical-align: top;\n",
       "    }\n",
       "\n",
       "    .dataframe thead th {\n",
       "        text-align: right;\n",
       "    }\n",
       "</style>\n",
       "<table border=\"1\" class=\"dataframe\">\n",
       "  <thead>\n",
       "    <tr style=\"text-align: right;\">\n",
       "      <th></th>\n",
       "      <th>id</th>\n",
       "      <th>prescriber_last_name</th>\n",
       "      <th>prescriber_first_name</th>\n",
       "      <th>drug_name</th>\n",
       "      <th>drug_cost</th>\n",
       "    </tr>\n",
       "  </thead>\n",
       "  <tbody>\n",
       "    <tr>\n",
       "      <th>0</th>\n",
       "      <td>1000000001</td>\n",
       "      <td>Smith</td>\n",
       "      <td>James</td>\n",
       "      <td>AMBIEN</td>\n",
       "      <td>100</td>\n",
       "    </tr>\n",
       "    <tr>\n",
       "      <th>1</th>\n",
       "      <td>1000000002</td>\n",
       "      <td>Garcia</td>\n",
       "      <td>Maria</td>\n",
       "      <td>AMBIEN</td>\n",
       "      <td>200</td>\n",
       "    </tr>\n",
       "    <tr>\n",
       "      <th>2</th>\n",
       "      <td>1000000003</td>\n",
       "      <td>Johnson</td>\n",
       "      <td>James</td>\n",
       "      <td>CHLORPROMAZINE</td>\n",
       "      <td>1000</td>\n",
       "    </tr>\n",
       "    <tr>\n",
       "      <th>3</th>\n",
       "      <td>1000000004</td>\n",
       "      <td>Rodriguez</td>\n",
       "      <td>Maria</td>\n",
       "      <td>CHLORPROMAZINE</td>\n",
       "      <td>2000</td>\n",
       "    </tr>\n",
       "    <tr>\n",
       "      <th>4</th>\n",
       "      <td>1000000005</td>\n",
       "      <td>Smith</td>\n",
       "      <td>David</td>\n",
       "      <td>BENZTROPINE MESYLATE</td>\n",
       "      <td>1500</td>\n",
       "    </tr>\n",
       "  </tbody>\n",
       "</table>\n",
       "</div>"
      ],
      "text/plain": [
       "           id prescriber_last_name prescriber_first_name  \\\n",
       "0  1000000001                Smith                 James   \n",
       "1  1000000002               Garcia                 Maria   \n",
       "2  1000000003              Johnson                 James   \n",
       "3  1000000004            Rodriguez                 Maria   \n",
       "4  1000000005                Smith                 David   \n",
       "\n",
       "              drug_name  drug_cost  \n",
       "0                AMBIEN        100  \n",
       "1                AMBIEN        200  \n",
       "2        CHLORPROMAZINE       1000  \n",
       "3        CHLORPROMAZINE       2000  \n",
       "4  BENZTROPINE MESYLATE       1500  "
      ]
     },
     "execution_count": 16,
     "metadata": {},
     "output_type": "execute_result"
    }
   ],
   "source": [
    "#read in the data and print to see\n",
    "df = pd.read_csv(\"/Users/apple/Desktop/prescribers.txt\")\n",
    "df"
   ]
  },
  {
   "cell_type": "code",
   "execution_count": 18,
   "metadata": {},
   "outputs": [
    {
     "name": "stdout",
     "output_type": "stream",
     "text": [
      "{'CHLORPROMAZINE': 3000, 'BENZTROPINE MESYLATE': 1500, 'AMBIEN': 300}\n"
     ]
    }
   ],
   "source": [
    "#used a dictionary, whose key is the name of the drug and value is the accumulitived cost of that drug\n",
    "cost_dict = dict()\n",
    "\n",
    "#convert the two columns to numpy array to work with\n",
    "drug_array = np.array(df[\"drug_name\"])\n",
    "cost_array = np.array(df[\"drug_cost\"])\n",
    "\n",
    "#for loop to update the dictionary\n",
    "for i in range(len(drug_array)):\n",
    "    cost_dict[drug_array[i]] = cost_dict.get(drug_array[i],0) + cost_array[i]\n",
    "\n",
    "#sort the dictionary by value in desending order\n",
    "sorted_cost = dict(sorted(cost_dict.items(), key=operator.itemgetter(1),reverse=True))\n",
    "\n",
    "#virtual check\n",
    "print(sorted_cost)"
   ]
  },
  {
   "cell_type": "code",
   "execution_count": 38,
   "metadata": {},
   "outputs": [
    {
     "data": {
      "text/plain": [
       "{'AMBIEN': 2, 'CHLORPROMAZINE': 2, 'BENZTROPINE MESYLATE': 1}"
      ]
     },
     "execution_count": 38,
     "metadata": {},
     "output_type": "execute_result"
    }
   ],
   "source": [
    "# Here I pull out all the distinct drug names and their name columns to form their own dataframe, \n",
    "# then count unique values in the new dataframe to obtain unique name for each drug\n",
    "name_dict = dict()\n",
    "\n",
    "# Pulling out each unique drugs and form a new column called full name, then find number of unique values in \n",
    "# full name column.\n",
    "# An improvement here is to use loops to generate all dataframes and numbers automatically. Since there are only three\n",
    "# distinct drugs here, this is easier and faster. With large dataset, loops should be used for each unique drug.\n",
    "\n",
    "ambien_df = pd.DataFrame(df[df[\"drug_name\"] == \"AMBIEN\"])\n",
    "ambien_df[\"full name\"] = ambien_df[\"prescriber_last_name\"] + ambien_df[\"prescriber_first_name\"]\n",
    "n = len(pd.unique(ambien_df['full name']))\n",
    "name_dict[\"AMBIEN\"] = n\n",
    "\n",
    "CHLORPROMAZINE_df = pd.DataFrame(df[df[\"drug_name\"] == \"CHLORPROMAZINE\"])\n",
    "CHLORPROMAZINE_df[\"full name\"] = CHLORPROMAZINE_df[\"prescriber_last_name\"] + CHLORPROMAZINE_df[\"prescriber_first_name\"]\n",
    "m = len(pd.unique(CHLORPROMAZINE_df['full name']))\n",
    "name_dict[\"CHLORPROMAZINE\"] = m\n",
    "\n",
    "BENZTROPINE_df = pd.DataFrame(df[df[\"drug_name\"] == \"BENZTROPINE MESYLATE\"])\n",
    "BENZTROPINE_df[\"full name\"] = BENZTROPINE_df[\"prescriber_last_name\"] + BENZTROPINE_df[\"prescriber_first_name\"]\n",
    "k = len(pd.unique(BENZTROPINE_df['full name']))\n",
    "name_dict[\"BENZTROPINE MESYLATE\"] = k\n",
    "\n",
    "name_dict"
   ]
  },
  {
   "cell_type": "code",
   "execution_count": 51,
   "metadata": {},
   "outputs": [
    {
     "data": {
      "text/html": [
       "<div>\n",
       "<style scoped>\n",
       "    .dataframe tbody tr th:only-of-type {\n",
       "        vertical-align: middle;\n",
       "    }\n",
       "\n",
       "    .dataframe tbody tr th {\n",
       "        vertical-align: top;\n",
       "    }\n",
       "\n",
       "    .dataframe thead th {\n",
       "        text-align: right;\n",
       "    }\n",
       "</style>\n",
       "<table border=\"1\" class=\"dataframe\">\n",
       "  <thead>\n",
       "    <tr style=\"text-align: right;\">\n",
       "      <th></th>\n",
       "      <th>tot_cost</th>\n",
       "      <th>num_prescriber</th>\n",
       "    </tr>\n",
       "    <tr>\n",
       "      <th>drug_name</th>\n",
       "      <th></th>\n",
       "      <th></th>\n",
       "    </tr>\n",
       "  </thead>\n",
       "  <tbody>\n",
       "    <tr>\n",
       "      <th>CHLORPROMAZINE</th>\n",
       "      <td>3000</td>\n",
       "      <td>2</td>\n",
       "    </tr>\n",
       "    <tr>\n",
       "      <th>BENZTROPINE MESYLATE</th>\n",
       "      <td>1500</td>\n",
       "      <td>1</td>\n",
       "    </tr>\n",
       "    <tr>\n",
       "      <th>AMBIEN</th>\n",
       "      <td>300</td>\n",
       "      <td>2</td>\n",
       "    </tr>\n",
       "  </tbody>\n",
       "</table>\n",
       "</div>"
      ],
      "text/plain": [
       "                      tot_cost  num_prescriber\n",
       "drug_name                                     \n",
       "CHLORPROMAZINE            3000               2\n",
       "BENZTROPINE MESYLATE      1500               1\n",
       "AMBIEN                     300               2"
      ]
     },
     "execution_count": 51,
     "metadata": {},
     "output_type": "execute_result"
    }
   ],
   "source": [
    "# convert the obtained two dictionary to dataframe and rename columns as required\n",
    "output_df =  pd.Series(sorted_cost).to_frame()\n",
    "output_df[\"num_prescriber\"] = pd.Series(name_dict)\n",
    "output_df.rename(columns = {0: \"tot_cost\"}, inplace = True)\n",
    "output_df.index.name = \"drug_name\"\n",
    "output_df"
   ]
  },
  {
   "cell_type": "code",
   "execution_count": null,
   "metadata": {},
   "outputs": [],
   "source": []
  }
 ],
 "metadata": {
  "kernelspec": {
   "display_name": "Python 3",
   "language": "python",
   "name": "python3"
  },
  "language_info": {
   "codemirror_mode": {
    "name": "ipython",
    "version": 3
   },
   "file_extension": ".py",
   "mimetype": "text/x-python",
   "name": "python",
   "nbconvert_exporter": "python",
   "pygments_lexer": "ipython3",
   "version": "3.8.5"
  }
 },
 "nbformat": 4,
 "nbformat_minor": 4
}
